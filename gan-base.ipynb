{
 "cells": [
  {
   "cell_type": "code",
   "execution_count": null,
   "metadata": {},
   "outputs": [],
   "source": [
    "import kagglehub\n",
    "\n",
    "# Download latest version\n",
    "path = kagglehub.dataset_download(\"andrewmvd/retinal-disease-classification\")\n",
    "\n",
    "print(\"Path to dataset files:\", path)"
   ]
  },
  {
   "cell_type": "code",
   "execution_count": null,
   "metadata": {},
   "outputs": [],
   "source": [
    "import numpy as np\n",
    "import pandas as pd\n",
    "import os\n",
    "from PIL import Image\n",
    "import matplotlib.pyplot as plt\n",
    "import numpy as np\n",
    "import tensorflow as tf\n",
    "from tensorflow.keras.preprocessing.image import img_to_array\n",
    "from sklearn.model_selection import train_test_split\n",
    "from tensorflow.keras import layers"
   ]
  },
  {
   "cell_type": "code",
   "execution_count": null,
   "metadata": {},
   "outputs": [],
   "source": [
    "base_dir = \"retinal-disease-classification\"\n",
    "train_dir = os.path.join(base_dir, \"Training_Set/Training\")\n",
    "train_csv = os.path.join(base_dir, \"Training_Set/RFMiD_Training_Labels.csv\")\n",
    "\n",
    "df_train = pd.read_csv(train_csv)\n",
    "print(\"Training Dataset Columns:\\n\", df_train.columns)\n",
    "print(\"\\nFirst Few Rows of Training Labels:\\n\", df_train.head())\n",
    "\n",
    "for i in range(5):\n",
    "    img_name = str(df_train['ID'][i]) + \".png\"\n",
    "    img_path = os.path.join(train_dir, img_name)\n",
    "    \n",
    "    if os.path.exists(img_path):\n",
    "        img = Image.open(img_path)\n",
    "        plt.imshow(img)\n",
    "        plt.title(f\"Label: {df_train['Disease_Risk'][i]}\")\n",
    "        plt.axis('off')\n",
    "        plt.show()\n",
    "    else:\n",
    "        print(f\"Image {img_name} not found in {train_dir}\")\n"
   ]
  },
  {
   "cell_type": "code",
   "execution_count": null,
   "metadata": {},
   "outputs": [],
   "source": [
    "# Set target image size\n",
    "img_size = (128, 128)\n",
    "\n",
    "def preprocess_images(df, image_dir):\n",
    "    images = []\n",
    "    labels = []\n",
    "    for i in range(len(df)):\n",
    "        img_name = str(df['ID'][i]) + \".png\"\n",
    "        img_path = os.path.join(image_dir, img_name)\n",
    "        \n",
    "        if os.path.exists(img_path):\n",
    "            img = Image.open(img_path).resize(img_size)\n",
    "            img_array = img_to_array(img) / 255.0\n",
    "            images.append(img_array)\n",
    "            labels.append(df['Disease_Risk'][i])\n",
    "    \n",
    "    return np.array(images), np.array(labels)\n",
    "\n",
    "X_train, y_train = preprocess_images(df_train, train_dir)\n",
    "print(\"Processed Training Data Shape:\", X_train.shape, y_train.shape)"
   ]
  },
  {
   "cell_type": "code",
   "execution_count": null,
   "metadata": {},
   "outputs": [],
   "source": [
    "X_train, X_val, y_train, y_val = train_test_split(X_train, y_train, test_size=0.2, random_state=42)\n",
    "\n",
    "print(\"Training Set Shape:\", X_train.shape, y_train.shape)\n",
    "print(\"Validation Set Shape:\", X_val.shape, y_val.shape)"
   ]
  },
  {
   "cell_type": "code",
   "execution_count": null,
   "metadata": {},
   "outputs": [],
   "source": [
    "img_shape = (128, 128, 3)\n",
    "latent_dim = 100  # Dimensionality of the random noise input for the generator\n",
    "\n",
    "# Generator\n",
    "def build_generator():\n",
    "    model = tf.keras.Sequential([\n",
    "        layers.Dense(8 * 8 * 256, activation=\"relu\", input_dim=latent_dim),\n",
    "        layers.Reshape((8, 8, 256)),\n",
    "        layers.Conv2DTranspose(128, kernel_size=4, strides=2, padding=\"same\", activation=\"relu\"),\n",
    "        layers.Conv2DTranspose(64, kernel_size=4, strides=2, padding=\"same\", activation=\"relu\"),\n",
    "        layers.Conv2DTranspose(32, kernel_size=4, strides=2, padding=\"same\", activation=\"relu\"),\n",
    "        layers.Conv2DTranspose(3, kernel_size=4, strides=2, padding=\"same\", activation=\"tanh\")\n",
    "    ])\n",
    "    return model\n",
    "\n",
    "# Discriminator\n",
    "def build_discriminator():\n",
    "    model = tf.keras.Sequential([\n",
    "        layers.Conv2D(32, kernel_size=4, strides=2, padding=\"same\", input_shape=img_shape),\n",
    "        layers.LeakyReLU(alpha=0.2),\n",
    "        layers.Conv2D(64, kernel_size=4, strides=2, padding=\"same\"),\n",
    "        layers.LeakyReLU(alpha=0.2),\n",
    "        layers.Conv2D(128, kernel_size=4, strides=2, padding=\"same\"),\n",
    "        layers.LeakyReLU(alpha=0.2),\n",
    "        layers.Flatten(),\n",
    "        layers.Dense(1, activation=\"sigmoid\")\n",
    "    ])\n",
    "    return model\n"
   ]
  },
  {
   "cell_type": "code",
   "execution_count": null,
   "metadata": {},
   "outputs": [],
   "source": [
    "discriminator = build_discriminator()\n",
    "discriminator.compile(optimizer=tf.keras.optimizers.Adam(0.0002, 0.5), loss=\"binary_crossentropy\", metrics=[\"accuracy\"])\n",
    "\n",
    "generator = build_generator()\n",
    "\n",
    "# GAN model (generator + discriminator)\n",
    "discriminator.trainable = False\n",
    "gan_input = layers.Input(shape=(latent_dim,))\n",
    "fake_image = generator(gan_input)\n",
    "gan_output = discriminator(fake_image)\n",
    "gan = tf.keras.Model(gan_input, gan_output)\n",
    "gan.compile(optimizer=tf.keras.optimizers.Adam(0.0002, 0.5), loss=\"binary_crossentropy\")\n"
   ]
  },
  {
   "cell_type": "code",
   "execution_count": null,
   "metadata": {},
   "outputs": [],
   "source": [
    "epochs = 1000\n",
    "batch_size = 32\n",
    "sample_interval = 1000\n",
    "\n",
    "X_train_scaled = (X_train * 2) - 1\n",
    "\n",
    "for epoch in range(epochs):\n",
    "    idx = np.random.randint(0, X_train_scaled.shape[0], batch_size)\n",
    "    real_imgs = X_train_scaled[idx]\n",
    "\n",
    "    noise = np.random.normal(0, 1, (batch_size, latent_dim))\n",
    "    fake_imgs = generator.predict(noise)\n",
    "\n",
    "    real_labels = np.ones((batch_size, 1))\n",
    "    fake_labels = np.zeros((batch_size, 1))\n",
    "    \n",
    "    d_loss_real = discriminator.train_on_batch(real_imgs, real_labels)\n",
    "    d_loss_fake = discriminator.train_on_batch(fake_imgs, fake_labels)\n",
    "    d_loss = 0.5 * np.add(d_loss_real, d_loss_fake)\n",
    "\n",
    "    g_loss = gan.train_on_batch(noise, real_labels)\n",
    "\n",
    "    if epoch % sample_interval == 0:\n",
    "        print(f\"{epoch} [D loss: {d_loss[0]:.4f}, acc.: {100*d_loss[1]:.2f}%] [G loss: {g_loss:.4f}]\")\n"
   ]
  },
  {
   "cell_type": "code",
   "execution_count": null,
   "metadata": {},
   "outputs": [],
   "source": [
    "import matplotlib.pyplot as plt\n",
    "\n",
    "def generate_images(generator, num_images):\n",
    "    noise = np.random.normal(0, 1, (num_images, latent_dim))\n",
    "    gen_images = generator.predict(noise)\n",
    "    gen_images = (gen_images + 1) / 2.0\n",
    "\n",
    "    for i in range(num_images):\n",
    "        plt.imshow(gen_images[i])\n",
    "        plt.axis('off')\n",
    "        plt.show()\n",
    "\n",
    "generate_images(generator, 5)"
   ]
  },
  {
   "cell_type": "code",
   "execution_count": null,
   "metadata": {},
   "outputs": [],
   "source": []
  }
 ],
 "metadata": {
  "kernelspec": {
   "display_name": "Python 3",
   "language": "python",
   "name": "python3"
  },
  "language_info": {
   "codemirror_mode": {
    "name": "ipython",
    "version": 3
   },
   "file_extension": ".py",
   "mimetype": "text/x-python",
   "name": "python",
   "nbconvert_exporter": "python",
   "pygments_lexer": "ipython3",
   "version": "3.12.6"
  }
 },
 "nbformat": 4,
 "nbformat_minor": 2
}
