{
 "cells": [
  {
   "cell_type": "code",
   "execution_count": null,
   "metadata": {
    "execution": {
     "iopub.execute_input": "2024-09-26T16:13:06.078864Z",
     "iopub.status.busy": "2024-09-26T16:13:06.078447Z",
     "iopub.status.idle": "2024-09-26T16:13:07.070711Z",
     "shell.execute_reply": "2024-09-26T16:13:07.069520Z",
     "shell.execute_reply.started": "2024-09-26T16:13:06.078824Z"
    },
    "trusted": true
   },
   "outputs": [],
   "source": [
    "import seaborn as sns\n",
    "import numpy as np\n",
    "import pandas as pd\n",
    "import matplotlib.pyplot as plt"
   ]
  },
  {
   "cell_type": "code",
   "execution_count": null,
   "metadata": {
    "execution": {
     "iopub.execute_input": "2024-09-26T16:13:07.076504Z",
     "iopub.status.busy": "2024-09-26T16:13:07.076195Z",
     "iopub.status.idle": "2024-09-26T16:13:07.115070Z",
     "shell.execute_reply": "2024-09-26T16:13:07.113888Z",
     "shell.execute_reply.started": "2024-09-26T16:13:07.076471Z"
    },
    "trusted": true
   },
   "outputs": [],
   "source": [
    "df = pd.read_csv(\"retinal-disease-classification/Training_Set/RFMiD_Training_Labels.csv\")\n",
    "df.head()"
   ]
  },
  {
   "cell_type": "code",
   "execution_count": null,
   "metadata": {
    "execution": {
     "iopub.execute_input": "2024-09-26T16:13:07.116698Z",
     "iopub.status.busy": "2024-09-26T16:13:07.116355Z",
     "iopub.status.idle": "2024-09-26T16:13:07.132061Z",
     "shell.execute_reply": "2024-09-26T16:13:07.130946Z",
     "shell.execute_reply.started": "2024-09-26T16:13:07.116662Z"
    },
    "trusted": true
   },
   "outputs": [],
   "source": [
    "df.info()"
   ]
  },
  {
   "cell_type": "code",
   "execution_count": null,
   "metadata": {
    "execution": {
     "iopub.execute_input": "2024-09-26T16:13:07.135983Z",
     "iopub.status.busy": "2024-09-26T16:13:07.135135Z",
     "iopub.status.idle": "2024-09-26T16:13:07.146131Z",
     "shell.execute_reply": "2024-09-26T16:13:07.144951Z",
     "shell.execute_reply.started": "2024-09-26T16:13:07.135932Z"
    },
    "trusted": true
   },
   "outputs": [],
   "source": [
    "df.isnull().sum()"
   ]
  },
  {
   "cell_type": "code",
   "execution_count": null,
   "metadata": {
    "execution": {
     "iopub.execute_input": "2024-09-26T16:13:07.147911Z",
     "iopub.status.busy": "2024-09-26T16:13:07.147431Z",
     "iopub.status.idle": "2024-09-26T16:13:07.413399Z",
     "shell.execute_reply": "2024-09-26T16:13:07.411831Z",
     "shell.execute_reply.started": "2024-09-26T16:13:07.147872Z"
    },
    "trusted": true
   },
   "outputs": [],
   "source": [
    "class_counts = df['Disease_Risk'].value_counts()\n",
    "print(class_counts)\n",
    "\n",
    "plt.figure(figsize=(6,6))\n",
    "plt.pie(class_counts, labels=class_counts.index, autopct='%1.1f%%', startangle=90, colors=['darkorange', 'skyblue'])\n",
    "plt.title('Class Distribution of Retinal Disease Data')\n",
    "plt.axis('equal')\n",
    "plt.show()"
   ]
  },
  {
   "cell_type": "code",
   "execution_count": null,
   "metadata": {
    "execution": {
     "iopub.execute_input": "2024-09-26T16:13:07.489411Z",
     "iopub.status.busy": "2024-09-26T16:13:07.488700Z",
     "iopub.status.idle": "2024-09-26T16:13:08.445529Z",
     "shell.execute_reply": "2024-09-26T16:13:08.444338Z",
     "shell.execute_reply.started": "2024-09-26T16:13:07.489356Z"
    },
    "trusted": true
   },
   "outputs": [],
   "source": [
    "df = df.drop(['ID','Disease_Risk', ], axis=1)\n",
    "\n",
    "disease_columns = ['DR', 'MH', 'ODC', 'TSLN', 'DN', 'MYA', 'ARMD', 'BRVO', 'ODP', 'ODE', 'LS', 'RS', 'CSR', 'CRS']\n",
    "df = df[disease_columns]\n",
    "\n",
    "presence_sum = df.sum()\n",
    "\n",
    "absence_sum = len(df) - presence_sum\n",
    "\n",
    "summary_df = pd.DataFrame({\n",
    "    'Presence': presence_sum,\n",
    "    'Absence': absence_sum\n",
    "})\n",
    "\n",
    "summary_df = summary_df.sort_values('Presence', ascending=False)\n",
    "print(summary_df)\n",
    "\n",
    "summary_df.plot(kind='bar', stacked=True, figsize=(15, 10))\n",
    "plt.title('Presence and Absence of Diseases')\n",
    "plt.xlabel('Diseases')\n",
    "plt.ylabel('Count')\n",
    "plt.legend(title='Status')\n",
    "plt.xticks(rotation=45, ha='right')\n",
    "plt.tight_layout()\n",
    "plt.show()"
   ]
  },
  {
   "cell_type": "code",
   "execution_count": null,
   "metadata": {
    "execution": {
     "iopub.execute_input": "2024-09-26T16:13:08.448044Z",
     "iopub.status.busy": "2024-09-26T16:13:08.447690Z",
     "iopub.status.idle": "2024-09-26T16:13:08.460056Z",
     "shell.execute_reply": "2024-09-26T16:13:08.459136Z",
     "shell.execute_reply.started": "2024-09-26T16:13:08.448007Z"
    },
    "trusted": true
   },
   "outputs": [],
   "source": [
    "dftest = pd.read_csv(\"/kaggle/input/retinal-disease-classification/Test_Set/Test_Set/RFMiD_Testing_Labels.csv\")"
   ]
  },
  {
   "cell_type": "code",
   "execution_count": null,
   "metadata": {
    "execution": {
     "iopub.execute_input": "2024-09-26T16:13:08.461516Z",
     "iopub.status.busy": "2024-09-26T16:13:08.461220Z",
     "iopub.status.idle": "2024-09-26T16:13:08.589863Z",
     "shell.execute_reply": "2024-09-26T16:13:08.588791Z",
     "shell.execute_reply.started": "2024-09-26T16:13:08.461484Z"
    },
    "trusted": true
   },
   "outputs": [],
   "source": [
    "class_counts = dftest['Disease_Risk'].value_counts()\n",
    "print(class_counts)\n",
    "\n",
    "plt.figure(figsize=(6,6))\n",
    "plt.pie(class_counts, labels=class_counts.index, autopct='%1.1f%%', startangle=90, colors=['darkorange', 'skyblue'])\n",
    "plt.title('Class Distribution of Retinal Disease Data')\n",
    "plt.axis('equal')\n",
    "plt.show()"
   ]
  },
  {
   "cell_type": "code",
   "execution_count": null,
   "metadata": {
    "execution": {
     "iopub.execute_input": "2024-09-26T16:13:08.593375Z",
     "iopub.status.busy": "2024-09-26T16:13:08.592576Z",
     "iopub.status.idle": "2024-09-26T16:13:09.403007Z",
     "shell.execute_reply": "2024-09-26T16:13:09.401879Z",
     "shell.execute_reply.started": "2024-09-26T16:13:08.593325Z"
    },
    "trusted": true
   },
   "outputs": [],
   "source": [
    "dftest = dftest.drop(['ID','Disease_Risk'], axis=1)\n",
    "\n",
    "presence_sum = dftest.sum()\n",
    "\n",
    "absence_sum = len(dftest) - presence_sum\n",
    "\n",
    "summary_df = pd.DataFrame({\n",
    "    'Presence': presence_sum,\n",
    "    'Absence': absence_sum\n",
    "})\n",
    "\n",
    "summary_df = summary_df.sort_values('Presence', ascending=False)\n",
    "print(summary_df)\n",
    "\n",
    "summary_df.plot(kind='bar', stacked=True, figsize=(15, 10))\n",
    "plt.title('Presence and Absence of Diseases')\n",
    "plt.xlabel('Diseases')\n",
    "plt.ylabel('Count')\n",
    "plt.legend(title='Status')\n",
    "plt.xticks(rotation=45, ha='right')\n",
    "plt.tight_layout()\n",
    "plt.show()"
   ]
  },
  {
   "cell_type": "code",
   "execution_count": null,
   "metadata": {
    "execution": {
     "iopub.execute_input": "2024-09-26T16:13:09.405710Z",
     "iopub.status.busy": "2024-09-26T16:13:09.404596Z",
     "iopub.status.idle": "2024-09-26T16:13:09.418880Z",
     "shell.execute_reply": "2024-09-26T16:13:09.417468Z",
     "shell.execute_reply.started": "2024-09-26T16:13:09.405518Z"
    },
    "trusted": true
   },
   "outputs": [],
   "source": [
    "dfval = pd.read_csv(\"/kaggle/input/retinal-disease-classification/Evaluation_Set/Evaluation_Set/RFMiD_Validation_Labels.csv\")"
   ]
  },
  {
   "cell_type": "code",
   "execution_count": null,
   "metadata": {
    "execution": {
     "iopub.execute_input": "2024-09-26T16:13:09.421315Z",
     "iopub.status.busy": "2024-09-26T16:13:09.420958Z",
     "iopub.status.idle": "2024-09-26T16:13:09.541079Z",
     "shell.execute_reply": "2024-09-26T16:13:09.540084Z",
     "shell.execute_reply.started": "2024-09-26T16:13:09.421281Z"
    },
    "trusted": true
   },
   "outputs": [],
   "source": [
    "class_counts = dfval['Disease_Risk'].value_counts()\n",
    "print(class_counts)\n",
    "\n",
    "plt.figure(figsize=(6,6))\n",
    "plt.pie(class_counts, labels=class_counts.index, autopct='%1.1f%%', startangle=90, colors=['darkorange', 'skyblue'])\n",
    "plt.title('Class Distribution of Retinal Disease Data')\n",
    "plt.axis('equal')\n",
    "plt.show()"
   ]
  },
  {
   "cell_type": "code",
   "execution_count": null,
   "metadata": {
    "execution": {
     "iopub.execute_input": "2024-09-26T16:13:09.543408Z",
     "iopub.status.busy": "2024-09-26T16:13:09.542465Z",
     "iopub.status.idle": "2024-09-26T16:13:10.353139Z",
     "shell.execute_reply": "2024-09-26T16:13:10.352119Z",
     "shell.execute_reply.started": "2024-09-26T16:13:09.543353Z"
    },
    "trusted": true
   },
   "outputs": [],
   "source": [
    "dfval = dfval.drop(['ID','Disease_Risk'], axis=1)\n",
    "\n",
    "presence_sum = dfval.sum()\n",
    "\n",
    "absence_sum = len(dfval) - presence_sum\n",
    "\n",
    "summary_df = pd.DataFrame({\n",
    "    'Presence': presence_sum,\n",
    "    'Absence': absence_sum\n",
    "})\n",
    "\n",
    "summary_df = summary_df.sort_values('Presence', ascending=False)\n",
    "print(summary_df)\n",
    "\n",
    "summary_df.plot(kind='bar', stacked=True, figsize=(15, 10))\n",
    "plt.title('Presence and Absence of Diseases')\n",
    "plt.xlabel('Diseases')\n",
    "plt.ylabel('Count')\n",
    "plt.legend(title='Status')\n",
    "plt.xticks(rotation=45, ha='right')\n",
    "plt.tight_layout()\n",
    "plt.show()"
   ]
  },
  {
   "cell_type": "code",
   "execution_count": null,
   "metadata": {},
   "outputs": [],
   "source": []
  }
 ],
 "metadata": {
  "kaggle": {
   "accelerator": "none",
   "dataSources": [
    {
     "datasetId": 1533360,
     "sourceId": 2530487,
     "sourceType": "datasetVersion"
    }
   ],
   "dockerImageVersionId": 30775,
   "isGpuEnabled": false,
   "isInternetEnabled": true,
   "language": "python",
   "sourceType": "notebook"
  },
  "kernelspec": {
   "display_name": "Python 3",
   "language": "python",
   "name": "python3"
  },
  "language_info": {
   "codemirror_mode": {
    "name": "ipython",
    "version": 3
   },
   "file_extension": ".py",
   "mimetype": "text/x-python",
   "name": "python",
   "nbconvert_exporter": "python",
   "pygments_lexer": "ipython3",
   "version": "3.12.6"
  }
 },
 "nbformat": 4,
 "nbformat_minor": 4
}
